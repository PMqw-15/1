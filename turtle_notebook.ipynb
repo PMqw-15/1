import turtle

screen = turtle.Screen()
t = turtle.Turtle()

t.circle(100)  # Рисуем круг

screen.mainloop()  # Держим окно открытым
